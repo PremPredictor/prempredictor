{
 "cells": [
  {
   "cell_type": "markdown",
   "metadata": {},
   "source": [
    "## Data Analysis for EPL Predictor\n",
    "We format the premier league data sourced publicly from https://www.football-data.co.uk/englandm.php by adding rankings for each team based on previous seasons "
   ]
  },
  {
   "cell_type": "code",
   "execution_count": 1,
   "metadata": {},
   "outputs": [],
   "source": [
    "import pandas as pd \n",
    "import numpy as np\n",
    "import os "
   ]
  },
  {
   "cell_type": "markdown",
   "metadata": {},
   "source": [
    "## Exploratory Data Analysis \n",
    "We analyze our dataset and understand the relationships between different features."
   ]
  },
  {
   "cell_type": "code",
   "execution_count": 2,
   "metadata": {},
   "outputs": [
    {
     "name": "stdout",
     "output_type": "stream",
     "text": [
      "(380, 45)\n"
     ]
    }
   ],
   "source": [
    "df = pd.read_csv(\"C:\\Computer Science\\prempredictor\\data\\\\2000_2001.csv\")\n",
    "print(df.shape)"
   ]
  },
  {
   "cell_type": "code",
   "execution_count": 3,
   "metadata": {},
   "outputs": [
    {
     "data": {
      "text/plain": [
       "<bound method NDFrame.head of     Div      Date       HomeTeam       AwayTeam  FTHG  FTAG FTR  HTHG  HTAG  \\\n",
       "0    E0  19/08/00       Charlton       Man City     4     0   H     2     0   \n",
       "1    E0  19/08/00        Chelsea       West Ham     4     2   H     1     0   \n",
       "2    E0  19/08/00       Coventry  Middlesbrough     1     3   A     1     1   \n",
       "3    E0  19/08/00          Derby    Southampton     2     2   D     1     2   \n",
       "4    E0  19/08/00          Leeds        Everton     2     0   H     2     0   \n",
       "..   ..       ...            ...            ...   ...   ...  ..   ...   ...   \n",
       "375  E0  19/05/01       Man City        Chelsea     1     2   A     1     1   \n",
       "376  E0  19/05/01  Middlesbrough       West Ham     2     1   H     2     1   \n",
       "377  E0  19/05/01      Newcastle    Aston Villa     3     0   H     2     0   \n",
       "378  E0  19/05/01    Southampton        Arsenal     3     2   H     0     1   \n",
       "379  E0  19/05/01      Tottenham     Man United     3     1   H     1     1   \n",
       "\n",
       "    HTR  ...   IWA   LBH   LBD   LBA   SBH   SBD   SBA   WHH  WHD   WHA  \n",
       "0     H  ...  2.70  2.20  3.25  2.75  2.20  3.25  2.88  2.10  3.2  3.10  \n",
       "1     H  ...  4.20  1.50  3.40  6.00  1.50  3.60  6.00  1.44  3.6  6.50  \n",
       "2     D  ...  2.70  2.25  3.20  2.75  2.30  3.20  2.75  2.30  3.2  2.62  \n",
       "3     A  ...  3.50  2.20  3.25  2.75  2.05  3.20  3.20  2.00  3.2  3.20  \n",
       "4     H  ...  4.50  1.55  3.50  5.00  1.57  3.60  5.00  1.61  3.5  4.50  \n",
       "..   ..  ...   ...   ...   ...   ...   ...   ...   ...   ...  ...   ...  \n",
       "375   D  ...  1.65  4.00  3.60  1.67  4.20  3.40  1.70  4.00  3.1  1.80  \n",
       "376   H  ...  3.20  1.80  3.25  3.75  1.90  3.20  3.50  1.83  3.4  3.50  \n",
       "377   H  ...  2.90  2.40  3.25  2.50  2.38  3.30  2.50  2.25  3.4  2.60  \n",
       "378   A  ...  2.35  2.50  3.25  2.37  2.63  3.25  2.30  2.62  3.5  2.20  \n",
       "379   D  ...  2.10  2.60  3.20  2.37  2.60  3.25  2.35  2.62  3.3  2.25  \n",
       "\n",
       "[380 rows x 45 columns]>"
      ]
     },
     "execution_count": 3,
     "metadata": {},
     "output_type": "execute_result"
    }
   ],
   "source": [
    "df.head"
   ]
  },
  {
   "cell_type": "code",
   "execution_count": 4,
   "metadata": {},
   "outputs": [
    {
     "data": {
      "text/plain": [
       "Index(['Div', 'Date', 'HomeTeam', 'AwayTeam', 'FTHG', 'FTAG', 'FTR', 'HTHG',\n",
       "       'HTAG', 'HTR', 'Attendance', 'Referee', 'HS', 'AS', 'HST', 'AST', 'HHW',\n",
       "       'AHW', 'HC', 'AC', 'HF', 'AF', 'HO', 'AO', 'HY', 'AY', 'HR', 'AR',\n",
       "       'HBP', 'ABP', 'GBH', 'GBD', 'GBA', 'IWH', 'IWD', 'IWA', 'LBH', 'LBD',\n",
       "       'LBA', 'SBH', 'SBD', 'SBA', 'WHH', 'WHD', 'WHA'],\n",
       "      dtype='object')"
      ]
     },
     "execution_count": 4,
     "metadata": {},
     "output_type": "execute_result"
    }
   ],
   "source": [
    "df.columns"
   ]
  }
 ],
 "metadata": {
  "kernelspec": {
   "display_name": "Python 3",
   "language": "python",
   "name": "python3"
  },
  "language_info": {
   "codemirror_mode": {
    "name": "ipython",
    "version": 3
   },
   "file_extension": ".py",
   "mimetype": "text/x-python",
   "name": "python",
   "nbconvert_exporter": "python",
   "pygments_lexer": "ipython3",
   "version": "3.8.10"
  }
 },
 "nbformat": 4,
 "nbformat_minor": 2
}
