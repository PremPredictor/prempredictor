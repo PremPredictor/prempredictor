{
 "cells": [
  {
   "cell_type": "markdown",
   "metadata": {},
   "source": [
    "## Data Analysis for EPL Predictor\n",
    "We format the premier league data sourced publicly from https://www.football-data.co.uk/englandm.php by adding rankings for each team based on previous seasons "
   ]
  },
  {
   "cell_type": "code",
   "execution_count": null,
   "metadata": {},
   "outputs": [],
   "source": [
    "import pandas as pd\n",
    "import numpy as np\n",
    "import os\n",
    "from datetime import datetime\n",
    "import copy"
   ]
  },
  {
   "cell_type": "markdown",
   "metadata": {},
   "source": [
    "## Exploratory Data Analysis \n",
    "We analyze our dataset and understand the relationships between different features."
   ]
  },
  {
   "cell_type": "code",
   "execution_count": null,
   "metadata": {},
   "outputs": [],
   "source": [
    "def loadDict(data):\n",
    "    # load the data\n",
    "    df = pd.read_csv(data, na_filter=True, on_bad_lines='skip')\n",
    "    refCols = list([\"Div\",\"Date\",\"HomeTeam\",\"AwayTeam\",\"FTHG\",\"HG\",\"FTAG\",\"AG\",\"FTR\",\"Res\",\"HTHG\",\"HTAG\",\"HTR\",\"Attendance\",\"Referee\",\"HS\",\"AS\",\"HST\",\"AST\",\"HHW\",\"AHW\",\"HC\",\"AC\",\"HF\",\"AF\",\"HFKC\",\"AFKC\",\"HO\",\"AO\",\"HY\",\"AY\",\"HR\",\"AR\",\"HBP\",\"ABP\"])\n",
    "    cols = list(df.columns)\n",
    "    dropCols = (set(cols) - set(refCols))\n",
    "    df.drop(dropCols, axis=1, inplace=True)\n",
    "    return df\n",
    "\n",
    "#initialise the dictionary\n",
    "raw_data = {}\n",
    "os.chdir(\"C:\\\\programming\\\\prempredictor\\\\data\")\n",
    "for i,j in enumerate(os.listdir()):\n",
    "    print(\"Loading: \", j)\n",
    "    raw_data[i] = loadDict(j)\n",
    "print(\"The following years were loaded (yy): \", raw_data.keys())\n",
    "\n"
   ]
  },
  {
   "cell_type": "code",
   "execution_count": null,
   "metadata": {},
   "outputs": [],
   "source": []
  }
 ],
 "metadata": {
  "kernelspec": {
   "display_name": "Python 3",
   "language": "python",
   "name": "python3"
  },
  "language_info": {
   "codemirror_mode": {
    "name": "ipython",
    "version": 3
   },
   "file_extension": ".py",
   "mimetype": "text/x-python",
   "name": "python",
   "nbconvert_exporter": "python",
   "pygments_lexer": "ipython3",
   "version": "3.9.7"
  }
 },
 "nbformat": 4,
 "nbformat_minor": 2
}
