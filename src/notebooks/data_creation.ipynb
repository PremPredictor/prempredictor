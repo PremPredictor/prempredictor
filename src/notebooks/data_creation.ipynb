{
 "cells": [
  {
   "cell_type": "markdown",
   "metadata": {},
   "source": [
    "## Data Creation for EPL Predictor\n",
    "We format the premier league data sourced publicly from https://www.football-data.co.uk/englandm.php by adding rankings for each team based on previous seasons "
   ]
  },
  {
   "cell_type": "code",
   "execution_count": 1,
   "metadata": {},
   "outputs": [],
   "source": [
    "import pandas as pd \n",
    "import numpy as np"
   ]
  },
  {
   "cell_type": "code",
   "execution_count": 17,
   "metadata": {},
   "outputs": [
    {
     "name": "stdout",
     "output_type": "stream",
     "text": [
      "(380, 106)\n"
     ]
    }
   ],
   "source": [
    "df = pd.read_csv(\"C:\\Computer Science\\prempredictor\\data\\epl_2022.csv\")\n",
    "print(df.shape)"
   ]
  },
  {
   "cell_type": "code",
   "execution_count": 18,
   "metadata": {},
   "outputs": [
    {
     "data": {
      "text/plain": [
       "<bound method NDFrame.head of     Div        Date   Time        HomeTeam       AwayTeam  FTHG  FTAG FTR  \\\n",
       "0    E0  05/08/2022  20:00  Crystal Palace        Arsenal     0     2   A   \n",
       "1    E0  06/08/2022  12:30          Fulham      Liverpool     2     2   D   \n",
       "2    E0  06/08/2022  15:00     Bournemouth    Aston Villa     2     0   H   \n",
       "3    E0  06/08/2022  15:00           Leeds         Wolves     2     1   H   \n",
       "4    E0  06/08/2022  15:00       Newcastle  Nott'm Forest     2     0   H   \n",
       "..   ..         ...    ...             ...            ...   ...   ...  ..   \n",
       "375  E0  28/05/2023  16:30         Everton    Bournemouth     1     0   H   \n",
       "376  E0  28/05/2023  16:30           Leeds      Tottenham     1     4   A   \n",
       "377  E0  28/05/2023  16:30       Leicester       West Ham     2     1   H   \n",
       "378  E0  28/05/2023  16:30      Man United         Fulham     2     1   H   \n",
       "379  E0  28/05/2023  16:30     Southampton      Liverpool     4     4   D   \n",
       "\n",
       "     HTHG  HTAG  ... AvgC<2.5  AHCh  B365CAHH  B365CAHA  PCAHH  PCAHA  \\\n",
       "0       0     1  ...     1.76  0.50      2.09      1.84   2.04   1.88   \n",
       "1       1     0  ...     2.73  1.75      1.90      2.03   1.91   2.02   \n",
       "2       1     0  ...     1.76  0.50      1.93      2.00   1.93   2.00   \n",
       "3       1     1  ...     1.87 -0.25      2.08      1.85   2.10   1.84   \n",
       "4       0     0  ...     1.89 -1.00      1.97      1.96   1.99   1.93   \n",
       "..    ...   ...  ...      ...   ...       ...       ...    ...    ...   \n",
       "375     0     0  ...     2.14 -1.00      2.02      1.77   2.10   1.81   \n",
       "376     0     1  ...     2.50  0.25      1.84      2.06   1.83   2.10   \n",
       "377     1     0  ...     2.51 -0.25      1.75      2.05   1.85   2.06   \n",
       "378     1     1  ...     2.95 -1.25      1.98      1.92   1.98   1.93   \n",
       "379     2     2  ...     3.22  1.25      1.82      2.08   1.85   2.07   \n",
       "\n",
       "     MaxCAHH  MaxCAHA  AvgCAHH  AvgCAHA  \n",
       "0       2.09     1.88     2.03     1.85  \n",
       "1       2.01     2.06     1.89     1.99  \n",
       "2       1.94     2.04     1.88     2.00  \n",
       "3       2.14     1.87     2.08     1.81  \n",
       "4       2.19     1.97     2.03     1.86  \n",
       "..       ...      ...      ...      ...  \n",
       "375     2.17     1.92     2.03     1.83  \n",
       "376     1.90     2.14     1.81     2.06  \n",
       "377     1.90     2.16     1.82     2.04  \n",
       "378     2.07     1.98     1.97     1.89  \n",
       "379     1.96     2.12     1.88     1.98  \n",
       "\n",
       "[380 rows x 106 columns]>"
      ]
     },
     "execution_count": 18,
     "metadata": {},
     "output_type": "execute_result"
    }
   ],
   "source": [
    "df.head"
   ]
  },
  {
   "cell_type": "code",
   "execution_count": 19,
   "metadata": {},
   "outputs": [
    {
     "data": {
      "text/plain": [
       "Index(['Div', 'Date', 'Time', 'HomeTeam', 'AwayTeam', 'FTHG', 'FTAG', 'FTR',\n",
       "       'HTHG', 'HTAG',\n",
       "       ...\n",
       "       'AvgC<2.5', 'AHCh', 'B365CAHH', 'B365CAHA', 'PCAHH', 'PCAHA', 'MaxCAHH',\n",
       "       'MaxCAHA', 'AvgCAHH', 'AvgCAHA'],\n",
       "      dtype='object', length=106)"
      ]
     },
     "execution_count": 19,
     "metadata": {},
     "output_type": "execute_result"
    }
   ],
   "source": [
    "df.columns"
   ]
  }
 ],
 "metadata": {
  "kernelspec": {
   "display_name": "Python 3",
   "language": "python",
   "name": "python3"
  },
  "language_info": {
   "codemirror_mode": {
    "name": "ipython",
    "version": 3
   },
   "file_extension": ".py",
   "mimetype": "text/x-python",
   "name": "python",
   "nbconvert_exporter": "python",
   "pygments_lexer": "ipython3",
   "version": "3.8.10"
  }
 },
 "nbformat": 4,
 "nbformat_minor": 2
}
